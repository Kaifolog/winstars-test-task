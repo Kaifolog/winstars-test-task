{
 "cells": [
  {
   "cell_type": "markdown",
   "metadata": {},
   "source": [
    "#### **Approach**\n",
    "\n",
    "First, I searched for real-world data and found a 7,000-row unlabeled dataset ([animal-fun-facts](https://github.com/ekohrt/animal-fun-facts-dataset)). This gave me the idea to label and then augment this data with synthetic examples, then test the resulting model on another real-world dataset to evaluate its generalization capability.\n",
    "\n",
    "I initially created a few dozen examples using ChatGPT, but they turned out too similar. Simple prompts produced grammatically correct but overly uniform data, which wouldn’t help the model perform well in real-world scenarios. To improve synthetic NER data generation, I looked for better methods and found a research [paper](https://arxiv.org/pdf/2403.11103v1). This approach enhances the diversity and quality of generated data, potentially leading to better model performance. The framework involves two main parts: generating attribute categories for examples and pools of entities for these attributes, then creating examples using entities sampled from the pools. I also found that simply asking an LLM to generate NER examples with a list of tags wasn’t effective, and the method from the paper didn’t work well for my task either. As a result, I developed my own format to label the generated data. The synthetic part was generated and labeled using Llama-3.3-70B.\n",
    "\n",
    "Third, when I read the task, I remembered the MS COCO dataset, which provides captions for pictures. I think this is a good fit as a test dataset for the task.\n",
    "\n",
    "#### **Summary**\n",
    "\n",
    "In the end, I obtained three datasets:\n",
    "- Labeled by LLM and filtered animal-fun-facts (~600 examples)\n",
    "- Synthetic (~1,900 examples)\n",
    "- Labeled manually and filtered MS COCO (~150 examples)\n",
    "\n"
   ]
  },
  {
   "cell_type": "markdown",
   "metadata": {},
   "source": [
    "#### **1.** `synthetic`"
   ]
  },
  {
   "cell_type": "markdown",
   "metadata": {},
   "source": [
    "The main idea is to first generate attributes and pools of attribute values, and then create examples based on these attributes.\n",
    "\n",
    "Generating Attributes and Attribute Values:\n",
    "- https://chatgpt.com/share/67c2a7ec-7194-8001-a5be-d6164d3cb2ef"
   ]
  },
  {
   "cell_type": "code",
   "execution_count": 9,
   "metadata": {},
   "outputs": [],
   "source": [
    "attributes = {\n",
    "    \"writing_style\": [\n",
    "        \"Descriptive\", \"Narrative\", \"Expository\", \"Poetic\", \"Humorous\"\n",
    "    ],\n",
    "    \"context\": [\n",
    "        \"Natural habitat\", \"Domesticated setting\", \"Mythological or fictional world\", \n",
    "        \"Scientific study\", \"Folklore or legend\"\n",
    "    ],\n",
    "    \"action_or_behavior\": [\n",
    "        \"Hunting or foraging\", \"Social interaction\", \"Resting or sleeping\", \n",
    "        \"Playing or exploring\", \"Defending territory\"\n",
    "    ],\n",
    "}\n",
    "\n",
    "\n",
    "animal_terms = {\n",
    "    \"butterfly\": [\"butterfly\", \"flutterer\", \"lepidopteran\", \"winged insect\", \"moth-like creature\"],\n",
    "    \"cat\": [\"cat\", \"feline\", \"kitten\", \"tomcat\", \"pussycat\", \"moggy\", \"house cat\"],\n",
    "    \"chicken\": [\"chicken\", \"hen\", \"rooster\", \"cock\", \"cockerel\", \"chick\", \"poultry\", \"fowl\"],\n",
    "    \"cow\": [\"cow\", \"cattle\", \"heifer\", \"bull\", \"ox\", \"bovine\", \"calf\", \"steer\"],\n",
    "    \"dog\": [\"dog\", \"canine\", \"puppy\", \"hound\", \"mutt\", \"pooch\", \"cur\", \"fido\"],\n",
    "    \"elephant\": [\"elephant\", \"pachyderm\", \"tusker\", \"jumbo\", \"bull elephant\", \"cow elephant\", \"calf\"],\n",
    "    \"horse\": [\"horse\", \"equine\", \"stallion\", \"mare\", \"foal\", \"colt\", \"filly\", \"pony\", \"nag\", \"gelding\"],\n",
    "    \"sheep\": [\"sheep\", \"ovine\", \"lamb\", \"ram\", \"ewe\", \"mutton\"],\n",
    "    \"spider\": [\"spider\", \"arachnid\", \"web-spinner\", \"creepy-crawler\", \"tarantula\", \"orb-weaver\"],\n",
    "    \"squirrel\": [\"squirrel\", \"rodent\", \"tree-climber\", \"bushy-tail\", \"sciurid\"]\n",
    "}\n",
    "\n",
    "animal_terms_list = [term for terms in animal_terms.values() for term in terms]\n",
    "\n",
    "animal_kinds = [kind.upper() for kind in animal_terms.keys()]\n"
   ]
  },
  {
   "cell_type": "code",
   "execution_count": 44,
   "metadata": {},
   "outputs": [],
   "source": [
    "from dotenv import dotenv_values, load_dotenv\n",
    "load_dotenv()\n",
    "config = dotenv_values(\".env\")"
   ]
  },
  {
   "cell_type": "markdown",
   "metadata": {},
   "source": [
    "I used LangChain to generate sentences with the Groq API (since it’s free). For credentials, I’m using dotenv to load them from a `.env` file."
   ]
  },
  {
   "cell_type": "code",
   "execution_count": 45,
   "metadata": {},
   "outputs": [],
   "source": [
    "from langchain_groq import ChatGroq\n",
    "\n",
    "llm = ChatGroq(\n",
    "    model=\"llama-3.3-70b-versatile\",\n",
    "    temperature=0.6,\n",
    "    max_tokens=None,\n",
    ")"
   ]
  },
  {
   "cell_type": "markdown",
   "metadata": {},
   "source": [
    "The simpler the answer format, the lower the chance of LLM hallucinations. I asked the LLM to label data with `[KIND]...[KIND]` tags. This approach is cheaper and more reliable than using JSON or other formats."
   ]
  },
  {
   "cell_type": "code",
   "execution_count": 46,
   "metadata": {},
   "outputs": [],
   "source": [
    "from langchain_core.prompts import (\n",
    "    ChatPromptTemplate,\n",
    "    SystemMessagePromptTemplate,\n",
    "    HumanMessagePromptTemplate,\n",
    ")\n",
    "from langchain_core.runnables import RunnableLambda\n",
    "\n",
    "\n",
    "system_prompt = \"\"\"Suppose you are writer.\"\"\"\n",
    "\n",
    "input_prompt = \"\"\"Please generate synthetic sentences with animal kinds. Please surround all animal kinds with specific tokens: [KIND] before and [KIND] after, where KIND is one of {animal_kinds}.\n",
    "\n",
    "Here are some example sentences and annotations for your reference. Please follow this format.\n",
    "Examples:\n",
    "The [DOG]hound[DOG] chased a rabbit through the dense forest.\n",
    "A majestic [ELEPHANT]tusker[ELEPHANT] roamed the African plains at sunset.\n",
    "The [SQUIRREL]bushy-tail[SQUIRREL] darted across the park, searching for hidden nuts.\n",
    "\n",
    "Additionally, the generated sentences should follow the requirements below:\n",
    "1. The writing style of the sentences should be {writing_style}.\n",
    "2. The sentences should be written from {context} perspective.\n",
    "3. The sentences should describe {action_or_behavior} of the animal.\n",
    "\n",
    "Generate 15 sentences with words {animals}.\n",
    "\n",
    "In answer give me only generated sentences separated by '\\n' symbol.\"\"\"\n",
    "\n",
    "prompt = ChatPromptTemplate.from_messages(\n",
    "        [\n",
    "            SystemMessagePromptTemplate.from_template(\n",
    "                template=system_prompt,\n",
    "            ),\n",
    "            HumanMessagePromptTemplate.from_template(\n",
    "                template=input_prompt, \n",
    "                input_variables=[\"animal_kinds\", \"writing_style\", \"context\", \"action_or_behavior\", \"animals\"],\n",
    "            ),\n",
    "        ]\n",
    "    )\n",
    "\n",
    "parser = RunnableLambda( lambda x: x.content.split('\\n'))\n",
    "\n",
    "generation_chain = (\n",
    "    prompt\n",
    "    | llm\n",
    "    | parser\n",
    ")\n"
   ]
  },
  {
   "cell_type": "markdown",
   "metadata": {},
   "source": [
    "Generate examples attributes combinations."
   ]
  },
  {
   "cell_type": "code",
   "execution_count": 47,
   "metadata": {},
   "outputs": [
    {
     "data": {
      "text/plain": [
       "125"
      ]
     },
     "execution_count": 47,
     "metadata": {},
     "output_type": "execute_result"
    }
   ],
   "source": [
    "from itertools import product\n",
    "\n",
    "cartesian_product = list(product(attributes[\"writing_style\"], attributes[\"context\"], attributes[\"action_or_behavior\"]))\n",
    "len(cartesian_product)"
   ]
  },
  {
   "cell_type": "markdown",
   "metadata": {},
   "source": [
    "Dataset generation."
   ]
  },
  {
   "cell_type": "code",
   "execution_count": 51,
   "metadata": {},
   "outputs": [
    {
     "name": "stderr",
     "output_type": "stream",
     "text": [
      "100%|██████████| 125/125 [18:26<00:00,  8.85s/it] \n"
     ]
    },
    {
     "data": {
      "text/plain": [
       "1945"
      ]
     },
     "execution_count": 51,
     "metadata": {},
     "output_type": "execute_result"
    }
   ],
   "source": [
    "from tqdm import tqdm\n",
    "import random\n",
    "from time import sleep\n",
    "\n",
    "generated_examples = []\n",
    "\n",
    "for attributes in tqdm(cartesian_product):\n",
    "    generated_examples += generation_chain.invoke({\n",
    "        \"animal_kinds\": animal_kinds, \n",
    "        \"writing_style\": attributes[0], \n",
    "        \"context\": attributes[1], \n",
    "        \"action_or_behavior\": attributes[2], \n",
    "        \"animals\": random.sample(animal_terms_list, 15)\n",
    "        })\n",
    "    sleep(5)\n",
    "\n",
    "len(generated_examples)"
   ]
  },
  {
   "cell_type": "markdown",
   "metadata": {},
   "source": [
    "Let's deduplicate"
   ]
  },
  {
   "cell_type": "code",
   "execution_count": null,
   "metadata": {},
   "outputs": [
    {
     "data": {
      "text/plain": [
       "1944"
      ]
     },
     "execution_count": 53,
     "metadata": {},
     "output_type": "execute_result"
    }
   ],
   "source": [
    "dedublicated_examples = list(set(generated_examples))\n",
    "len(dedublicated_examples)"
   ]
  },
  {
   "cell_type": "code",
   "execution_count": null,
   "metadata": {},
   "outputs": [],
   "source": [
    "import json\n",
    "\n",
    "with open('./datasets/animals_synthetic_labeled.json', mode=\"w\", encoding='utf8') as f:\n",
    "    json.dump(dedublicated_examples, f, indent=1, ensure_ascii=False)"
   ]
  },
  {
   "cell_type": "markdown",
   "metadata": {},
   "source": [
    "And then format"
   ]
  },
  {
   "cell_type": "code",
   "execution_count": null,
   "metadata": {},
   "outputs": [
    {
     "data": {
      "text/plain": [
       "ClassLabel(names=['I-O', 'I-BUTTERFLY', 'I-CAT', 'I-CHICKEN', 'I-COW', 'I-DOG', 'I-ELEPHANT', 'I-HORSE', 'I-SHEEP', 'I-SPIDER', 'I-SQUIRREL'], id=None)"
      ]
     },
     "execution_count": 6,
     "metadata": {},
     "output_type": "execute_result"
    }
   ],
   "source": [
    "from datasets import ClassLabel\n",
    "animal_classes_labels = ClassLabel(names_file=\"./datasets/animal_classes.txt\")\n",
    "animal_classes_labels"
   ]
  },
  {
   "cell_type": "markdown",
   "metadata": {},
   "source": [
    "The problem is that some sentences contain multiple names. To handle this, I had to create an automaton to process the sequence."
   ]
  },
  {
   "cell_type": "code",
   "execution_count": 7,
   "metadata": {},
   "outputs": [],
   "source": [
    "def tags_to_clstags(examples):\n",
    "    filtered_synthetic_dataset = []\n",
    "\n",
    "    for row in examples:\n",
    "        # found several hallucinations like this\n",
    "        row = row.replace('}', ']')\n",
    "        row = row.replace('  ', ' ')\n",
    "        # so called whitespace tokenization\n",
    "        tokens = row.split(' ')\n",
    "        ner_tags = []\n",
    "        # automata state\n",
    "        tag = None\n",
    "        for i in range(len(tokens)):\n",
    "            # if not animal\n",
    "            if tag is None and not (\"[\" in tokens[i] and \"]\" in tokens[i]):\n",
    "                ner_tags.append(animal_classes_labels.str2int('I-O'))\n",
    "            # if start of animal kind\n",
    "            elif tag is None and (\"[\" in tokens[i] and \"]\" in tokens[i]):\n",
    "                tag = tokens[i].split(']')[0][1:]\n",
    "                tokens[i] = tokens[i].split(']')[1]\n",
    "                \n",
    "                # check if tag is class\n",
    "                if tag not in animal_kinds:\n",
    "                    print(f\"Warning! Unknown tag: {tag}. Skipped.\")\n",
    "                    tokens = []\n",
    "                    break\n",
    "\n",
    "                ner_tags.append(animal_classes_labels.str2int(\"I-\"+tag))\n",
    "                # if start and end of animal class\n",
    "                if '[' in tokens[i]:\n",
    "                    tokens[i] = tokens[i].split('[')[0]\n",
    "                    tag = None\n",
    "            # if inner token of animal class\n",
    "            elif tag and not (\"[\" in tokens[i] and \"]\" in tokens[i]):\n",
    "                ner_tags.append(animal_classes_labels.str2int(\"I-\"+tag))\n",
    "            # if end of animal class\n",
    "            elif tag and (\"[\" in tokens[i] and \"]\" in tokens[i]):\n",
    "                ner_tags.append(animal_classes_labels.str2int(\"I-\"+tag))\n",
    "\n",
    "                # check if tags coincide\n",
    "                if tokens[i].split('[')[1][:-1] != tag:\n",
    "                    print(f\"!!!!!!! {tag} {tokens[i].split('[')[1][:-1]}\")\n",
    "                    tokens = []\n",
    "                    break\n",
    "\n",
    "                tag = None\n",
    "                tokens[i] = tokens[i].split('[')[0]\n",
    "            else:\n",
    "                raise Exception(f\"Something went wrong\\ni:{i}, tag:{tag}\\n{row.split(' ')}\\n{tokens}\\n{ner_tags}\")\n",
    "\n",
    "        if tokens != []:\n",
    "            filtered_synthetic_dataset.append({\n",
    "                'tokens': tokens,\n",
    "                'ner_tags': ner_tags,\n",
    "            })\n",
    "    return filtered_synthetic_dataset"
   ]
  },
  {
   "cell_type": "code",
   "execution_count": null,
   "metadata": {},
   "outputs": [
    {
     "name": "stdout",
     "output_type": "stream",
     "text": [
      "Warning! Unknown tag: BULL. Skipped.\n",
      "Warning! Unknown tag: RODENT. Skipped.\n",
      "Warning! Unknown tag: ow[COW. Skipped.\n",
      "Warning! Unknown tag: OX. Skipped.\n",
      "!!!!!!! CAT DOG]do\n",
      "!!!!!!! BUTTERFLY BUTTERFLY]\n",
      "Warning! Unknown tag: RODENT. Skipped.\n",
      "!!!!!!! BUTTERFLY BUTTERFLY]\n",
      "!!!!!!! SPIDER SPIDER]\n",
      "!!!!!!! BUTTERFLY BUTTERFLY]\n",
      "!!!!!!! ELEPHANT ELEPHANT]\n",
      "Warning! Unknown tag: OX. Skipped.\n",
      "!!!!!!! ELEPHANT ELEPHANT]\n",
      "!!!!!!! SPIDER SPIDER]\n",
      "Warning! Unknown tag: FOX. Skipped.\n",
      "Warning! Unknown tag: FOX. Skipped.\n",
      "!!!!!!! BUTTERFLY BUTTERFLY]\n",
      "Warning! Unknown tag: ROOSTER. Skipped.\n",
      "Warning! Unknown tag: FOX. Skipped.\n",
      "Warning! Unknown tag: RODENT. Skipped.\n",
      "!!!!!!! SPIDER SPIDER]\n",
      "!!!!!!! SPIDER SPIDER]\n",
      "Warning! Unknown tag: FOX. Skipped.\n",
      "!!!!!!! BUTTERFLY BUTTERFLY]\n",
      "!!!!!!! BUTTERFLY BUTTERFLY]s\n",
      "Warning! Unknown tag: BIRD. Skipped.\n",
      "!!!!!!! BUTTERFLY BUTTERFLY]\n",
      "Warning! Unknown tag: rb-weaver[SPIDER. Skipped.\n",
      "Warning! Unknown tag: FOX. Skipped.\n",
      "Warning! Unknown tag: BULL. Skipped.\n",
      "!!!!!!! BUTTERFLY BUTTERFLY]\n",
      "Warning! Unknown tag: rb-weaver[SPIDER. Skipped.\n",
      "Warning! Unknown tag: POULTRY. Skipped.\n",
      "!!!!!!! ELEPHANT ELEPHANT]\n",
      "Warning! Unknown tag: BEE. Skipped.\n",
      "Warning! Unknown tag: lephant[ELEPHANT. Skipped.\n",
      "Warning! Unknown tag: RODENT. Skipped.\n",
      "!!!!!!! COW COW]bovin\n",
      "Warning! Unknown tag: BULL. Skipped.\n",
      "!!!!!!! CAT CAT]\n",
      "!!!!!!! BUTTERFLY BUTTERFLY]\n"
     ]
    },
    {
     "data": {
      "text/plain": [
       "1903"
      ]
     },
     "execution_count": 131,
     "metadata": {},
     "output_type": "execute_result"
    }
   ],
   "source": [
    "filtered_synthetic_dataset = tags_to_clstags(dedublicated_examples)\n",
    "\n",
    "len(filtered_synthetic_dataset)"
   ]
  },
  {
   "cell_type": "markdown",
   "metadata": {},
   "source": [
    "For small datasets, traditional formats like JSON or CSV are quite suitable. Converting to Parquet or Arrow might add unnecessary overhead without providing clear benefits.\n",
    "\n",
    "Additionally, JSON is easier to explore."
   ]
  },
  {
   "cell_type": "code",
   "execution_count": 132,
   "metadata": {},
   "outputs": [],
   "source": [
    "import json\n",
    "\n",
    "with open('./datasets/animals_synthetic.json', mode=\"w\", encoding='utf8') as f:\n",
    "    json.dump(filtered_synthetic_dataset, f, indent=1, ensure_ascii=False)"
   ]
  },
  {
   "cell_type": "markdown",
   "metadata": {},
   "source": [
    "#### **2.** `animal-facts`"
   ]
  },
  {
   "cell_type": "code",
   "execution_count": 99,
   "metadata": {},
   "outputs": [
    {
     "name": "stdout",
     "output_type": "stream",
     "text": [
      "Download complete.\n"
     ]
    }
   ],
   "source": [
    "import requests\n",
    "\n",
    "url = \"https://raw.githubusercontent.com/ekohrt/animal-fun-facts-dataset/main/animal-fun-facts-dataset.csv\"\n",
    "response = requests.get(url)\n",
    "\n",
    "if response.status_code == 200:\n",
    "    with open(\"./datasets/animal-fun-facts-dataset.csv\", \"wb\") as file:\n",
    "        file.write(response.content)\n",
    "    print(\"Download complete.\")\n",
    "else:\n",
    "    print(\"Failed to download file\")\n"
   ]
  },
  {
   "cell_type": "code",
   "execution_count": 100,
   "metadata": {},
   "outputs": [
    {
     "name": "stderr",
     "output_type": "stream",
     "text": [
      "Generating train split: 7734 examples [00:00, 154593.90 examples/s]\n"
     ]
    }
   ],
   "source": [
    "from datasets import load_dataset\n",
    "animal_facts = load_dataset(\"csv\", data_files=\"./datasets/animal-fun-facts-dataset.csv\")"
   ]
  },
  {
   "cell_type": "code",
   "execution_count": 101,
   "metadata": {},
   "outputs": [
    {
     "data": {
      "text/plain": [
       "DatasetDict({\n",
       "    train: Dataset({\n",
       "        features: ['animal_name', 'source', 'text', 'media_link', 'wikipedia_link'],\n",
       "        num_rows: 7734\n",
       "    })\n",
       "})"
      ]
     },
     "execution_count": 101,
     "metadata": {},
     "output_type": "execute_result"
    }
   ],
   "source": [
    "animal_facts"
   ]
  },
  {
   "cell_type": "markdown",
   "metadata": {},
   "source": [
    "The dataset is not labeled for NER task"
   ]
  },
  {
   "cell_type": "code",
   "execution_count": 102,
   "metadata": {},
   "outputs": [
    {
     "data": {
      "text/plain": [
       "['Aardvarks are sometimes called \"ant bears\", \"earth pigs\",\\nand \"cape anteaters\"',\n",
       " 'Aardvarks\\nhave rather primitive brains that are very small for the size of the\\nanimal. Some have suggested they are not particularly bright....',\n",
       " 'Aardvarks\\nteeth are lined with fine upright tubes and have no roots or enamel.',\n",
       " 'The aardvarks Latin family name \"Tubulidentata\" means \"tube toothed\"',\n",
       " 'Baby aardvarks are born with front teeth that fall out and\\nnever grow back.',\n",
       " 'Aardvarks are living fossils not having changed for\\nmillions of years.',\n",
       " 'Aardvarks will occasionally stand, and even take a step or\\ntwo, on their hind legs',\n",
       " 'Aardvarks can\\xa0 use their powerful tails as a\\nwhip-like weapon of defense.',\n",
       " 'Wild dogs are known by many different names including painted dog, painted wolf, cape hunting dog, African hunting dog, singing dog and ornate wolf- wow!',\n",
       " 'They are the most efficient hunters of any large predator with an 80% success rate.',\n",
       " \"Wild dogs don't use a kill bite when hunting, the pack will actually begin to eat their prey alive, which may be a big reason for their unpopularity, but is often actually a quicker ending\",\n",
       " 'The African Wild Dog is the second largest dog species after the grey wolf']"
      ]
     },
     "execution_count": 102,
     "metadata": {},
     "output_type": "execute_result"
    }
   ],
   "source": [
    "animal_facts = animal_facts['train']['text']\n",
    "animal_facts[:12]"
   ]
  },
  {
   "cell_type": "code",
   "execution_count": 134,
   "metadata": {},
   "outputs": [
    {
     "data": {
      "text/plain": [
       "2358"
      ]
     },
     "execution_count": 134,
     "metadata": {},
     "output_type": "execute_result"
    }
   ],
   "source": [
    "filtered_animal_facts = []\n",
    "for row in animal_facts:\n",
    "    for term in animal_terms_list:  # we need at least one of clases to appear in the text\n",
    "        if row is not None and term in row.lower():\n",
    "                    \n",
    "            # data cleaning\n",
    "            if row.startswith('\"') and row.endswith('\"'):\n",
    "                row = row[1:-1]\n",
    "            row = row.replace('\\n', ' ').replace('\\xa0', '')\n",
    "            \n",
    "            filtered_animal_facts.append(row)\n",
    "            break\n",
    "\n",
    "len(filtered_animal_facts)"
   ]
  },
  {
   "cell_type": "code",
   "execution_count": 150,
   "metadata": {},
   "outputs": [],
   "source": [
    "from langchain_groq import ChatGroq\n",
    "\n",
    "llm = ChatGroq(\n",
    "    model=\"llama3-70b-8192\",\n",
    "    temperature=0,\n",
    "    max_tokens=None,\n",
    ")"
   ]
  },
  {
   "cell_type": "code",
   "execution_count": 151,
   "metadata": {},
   "outputs": [],
   "source": [
    "from langchain_core.prompts import (\n",
    "    ChatPromptTemplate,\n",
    "    SystemMessagePromptTemplate,\n",
    "    HumanMessagePromptTemplate,\n",
    ")\n",
    "from langchain_core.runnables import RunnableLambda\n",
    "\n",
    "\n",
    "system_prompt = \"\"\"You are helping to label the dataset.\"\"\"\n",
    "\n",
    "input_prompt = \"\"\"Please label sentences with animal kinds. Surround all animal kinds with specific tokens: [KIND] before and [KIND] after, where KIND is one of {animal_kinds}.\n",
    "\n",
    "Here is the relation scheme between kinds and words. Please label only these terms. {animal_terms}\n",
    "\n",
    "Here are some example sentences and annotations for your reference. Please follow this format.\n",
    "Examples:\n",
    "The [DOG]hound[DOG] chased a rabbit through the dense forest.\n",
    "A majestic [ELEPHANT]tusker[ELEPHANT] roamed the African plains at sunset.\n",
    "The [SQUIRREL]bushy-tail[SQUIRREL] darted across the park, searching for hidden nuts.\n",
    "\n",
    "If the sentence contains a word listed above but not used literally, do not label it. If the sentence does not contain any of the listed words or if the words are not used in their literal meaning, skip it.\n",
    "Example of sentence that should be skipped:\n",
    "The jacket was zebra-striped.\n",
    "\n",
    "Label this sentences:\n",
    "{sentences}\n",
    "\n",
    "In answer provide ONLY the labeled sentences separated by exactly one '\\n' symbol. Whithout your comments or words.\n",
    "\"\"\"\n",
    "\n",
    "prompt = ChatPromptTemplate.from_messages(\n",
    "        [\n",
    "            SystemMessagePromptTemplate.from_template(\n",
    "                template=system_prompt,\n",
    "            ),\n",
    "            HumanMessagePromptTemplate.from_template(\n",
    "                template=input_prompt, \n",
    "                input_variables=[\"animal_kinds\", \"animal_terms\", \"sentences\"],\n",
    "            ),\n",
    "        ]\n",
    "    )\n",
    "\n",
    "parser = RunnableLambda( lambda x: x.content.split('\\n'))\n",
    "\n",
    "generation_chain = (\n",
    "    prompt\n",
    "    | llm\n",
    "    | parser\n",
    ")\n"
   ]
  },
  {
   "cell_type": "code",
   "execution_count": null,
   "metadata": {},
   "outputs": [],
   "source": [
    "from tqdm import tqdm\n",
    "\n",
    "labeled_animal_facts = []\n",
    "chunk_size = 18\n",
    "\n",
    "tqdm_range = tqdm(range(0, len(filtered_animal_facts), chunk_size))"
   ]
  },
  {
   "cell_type": "code",
   "execution_count": 152,
   "metadata": {},
   "outputs": [
    {
     "name": "stderr",
     "output_type": "stream",
     "text": [
      "100%|██████████| 131/131 [29:23<00:00, 13.46s/it, sentences=741]\n"
     ]
    },
    {
     "data": {
      "text/plain": [
       "741"
      ]
     },
     "execution_count": 152,
     "metadata": {},
     "output_type": "execute_result"
    }
   ],
   "source": [
    "for i in tqdm_range:\n",
    "    # processing by chunks\n",
    "    chunk = filtered_animal_facts[i:i + chunk_size]\n",
    "    sentences ='\\n'.join([submission.replace('\\n', ' ') for submission in chunk])\n",
    "    labeled_animal_facts += generation_chain.invoke({\n",
    "        \"animal_kinds\": animal_kinds, \n",
    "        \"animal_terms\": animal_terms, \n",
    "        \"sentences\": sentences\n",
    "        })\n",
    "    tqdm_range.set_postfix({\"sentences\": len(labeled_animal_facts)})\n",
    "\n",
    "len(labeled_animal_facts)"
   ]
  },
  {
   "cell_type": "code",
   "execution_count": 158,
   "metadata": {},
   "outputs": [
    {
     "data": {
      "text/plain": [
       "687"
      ]
     },
     "execution_count": 158,
     "metadata": {},
     "output_type": "execute_result"
    }
   ],
   "source": [
    "labeled_animal_facts = list(set(labeled_animal_facts))\n",
    "len(labeled_animal_facts)"
   ]
  },
  {
   "cell_type": "code",
   "execution_count": 159,
   "metadata": {},
   "outputs": [],
   "source": [
    "import json\n",
    "\n",
    "with open('./datasets/animal-fun-facts-labeled.json', mode=\"w\", encoding='utf8') as f:\n",
    "    json.dump(labeled_animal_facts, f, indent=1, ensure_ascii=False)"
   ]
  },
  {
   "cell_type": "code",
   "execution_count": 161,
   "metadata": {},
   "outputs": [
    {
     "name": "stdout",
     "output_type": "stream",
     "text": [
      "Warning! Unknown tag: CHICK. Skipped.\n",
      "Warning! Unknown tag: CHICK. Skipped.\n",
      "!!!!!!! COW COW]-lik\n",
      "Warning! Unknown tag: CHEETAH. Skipped.\n",
      "!!!!!!! SQUIRREL SQUIRREL]\n",
      "!!!!!!! SPIDER SPIDER].\n",
      "Warning! Unknown tag: RHINOCEROS. Skipped.\n",
      "Warning! Unknown tag: FOX. Skipped.\n",
      "Warning! Unknown tag: RODENT. Skipped.\n",
      "Warning! Unknown tag: RHINO. Skipped.\n",
      "!!!!!!! DOG DOG].\n",
      "!!!!!!! DOG DOG]\n",
      "Warning! Unknown tag: GORILLA. Skipped.\n",
      "Warning! Unknown tag: CHICK. Skipped.\n",
      "Warning! Unknown tag: RHINO. Skipped.\n",
      "!!!!!!! BUTTERFLY BUTTERFLY]butterfl\n",
      "Warning! Unknown tag: GORILLA. Skipped.\n",
      "Warning! Unknown tag: GORILLA. Skipped.\n",
      "Warning! Unknown tag: GORILLA. Skipped.\n",
      "Warning! Unknown tag: RHINO. Skipped.\n",
      "!!!!!!! COW COW]giraffe\n",
      "Warning! Unknown tag: [DOG. Skipped.\n",
      "!!!!!!! COW COW]\n",
      "!!!!!!! DOG DOG]\n",
      "Warning! Unknown tag: [COW. Skipped.\n",
      "!!!!!!! CAT CAT]\n",
      "Warning! Unknown tag: GORILLA. Skipped.\n",
      "Warning! Unknown tag: lood[DOG. Skipped.\n",
      "!!!!!!! DOG DOG].\n",
      "Warning! Unknown tag: GOAT. Skipped.\n",
      "Warning! Unknown tag: CATS. Skipped.\n",
      "Warning! Unknown tag: ouse[CAT. Skipped.\n",
      "Warning! Unknown tag: BIRD. Skipped.\n",
      "Warning! Unknown tag: RHINO. Skipped.\n",
      "Warning! Unknown tag: CHEETAH. Skipped.\n",
      "Warning! Unknown tag: GOAT. Skipped.\n",
      "Warning! Unknown tag: CATS. Skipped.\n",
      "Warning! Unknown tag: PANDA. Skipped.\n",
      "!!!!!!! CAT CAT]\n",
      "Warning! Unknown tag: [COW. Skipped.\n",
      "!!!!!!! CAT CAT]hous\n",
      "Warning! Unknown tag: CDOG. Skipped.\n",
      "Warning! Unknown tag: RODENT. Skipped.\n",
      "!!!!!!! DOG DOG]-lik\n",
      "!!!!!!! COW SHEEP]!\n",
      "Warning! Unknown tag: [SPIDER. Skipped.\n",
      "Warning! Unknown tag: [ELEPHANT. Skipped.\n",
      "Warning! Unknown tag: CANIDAE. Skipped.\n",
      "Warning! Unknown tag: DINGO. Skipped.\n",
      "Warning! Unknown tag: [SPIDER. Skipped.\n",
      "Warning! Unknown tag: CANID. Skipped.\n",
      "Warning! Unknown tag: CATTLE. Skipped.\n",
      "!!!!!!! SHEEP SHEEP]do\n",
      "Warning! Unknown tag: Dogs. Skipped.\n",
      "Warning! Unknown tag: JACKAL. Skipped.\n",
      "!!!!!!! DOG DOG]\n",
      "Warning! Unknown tag: CHEETAH. Skipped.\n",
      "Warning! Unknown tag: og[Dog. Skipped.\n",
      "!!!!!!! CAT CAT]\n"
     ]
    },
    {
     "data": {
      "text/plain": [
       "628"
      ]
     },
     "execution_count": 161,
     "metadata": {},
     "output_type": "execute_result"
    }
   ],
   "source": [
    "filtered_animal_facts = tags_to_clstags(labeled_animal_facts)\n",
    "\n",
    "len(filtered_animal_facts)"
   ]
  },
  {
   "cell_type": "code",
   "execution_count": null,
   "metadata": {},
   "outputs": [],
   "source": [
    "import json\n",
    "\n",
    "with open('./datasets/animal-fun-facts.json', mode=\"w\", encoding='utf8') as f:\n",
    "    json.dump(filtered_animal_facts, f, indent=1, ensure_ascii=False)"
   ]
  },
  {
   "cell_type": "markdown",
   "metadata": {},
   "source": [
    "#### **3.** `MS COCO`"
   ]
  },
  {
   "cell_type": "code",
   "execution_count": 41,
   "metadata": {},
   "outputs": [
    {
     "data": {
      "text/plain": [
       "DatasetDict({\n",
       "    train: Dataset({\n",
       "        features: ['caption1', 'caption2'],\n",
       "        num_rows: 414010\n",
       "    })\n",
       "})"
      ]
     },
     "execution_count": 41,
     "metadata": {},
     "output_type": "execute_result"
    }
   ],
   "source": [
    "from datasets import load_dataset\n",
    "coco = load_dataset(\"sentence-transformers/coco-captions\")\n",
    "coco"
   ]
  },
  {
   "cell_type": "code",
   "execution_count": 43,
   "metadata": {},
   "outputs": [],
   "source": [
    "coco = coco['train']['caption1']"
   ]
  },
  {
   "cell_type": "code",
   "execution_count": 54,
   "metadata": {},
   "outputs": [
    {
     "data": {
      "text/plain": [
       "{'butterfly': 37,\n",
       " 'cat': 11082,\n",
       " 'horse': 4631,\n",
       " 'dog': 10646,\n",
       " 'cow': 2777,\n",
       " 'elephant': 3936,\n",
       " 'chicken': 469,\n",
       " 'sheep': 3185,\n",
       " 'squirrel': 42,\n",
       " 'spider': 17}"
      ]
     },
     "execution_count": 54,
     "metadata": {},
     "output_type": "execute_result"
    }
   ],
   "source": [
    "coco_rows = {}\n",
    "\n",
    "row_flag = False\n",
    "for row in coco:\n",
    "    for term_class in animal_terms:\n",
    "        for term in animal_terms[term_class]:\n",
    "            if row is not None and \" \"+term+\" \" in row:\n",
    "                if term_class not in coco_rows.keys():\n",
    "                    coco_rows[term_class] = [row]\n",
    "                else:\n",
    "                    coco_rows[term_class].append(row)\n",
    "                row_flag = True\n",
    "                break\n",
    "        if row_flag == True:\n",
    "            row_flag = False\n",
    "            break\n",
    "        \n",
    "{key: len(value) for key, value in coco_rows.items()}"
   ]
  },
  {
   "cell_type": "markdown",
   "metadata": {},
   "source": [
    "The data is highly imbalanced. Let's take a small sample from each class"
   ]
  },
  {
   "cell_type": "code",
   "execution_count": 55,
   "metadata": {},
   "outputs": [
    {
     "data": {
      "text/plain": [
       "{'butterfly': 20,\n",
       " 'cat': 20,\n",
       " 'horse': 20,\n",
       " 'dog': 20,\n",
       " 'cow': 20,\n",
       " 'elephant': 20,\n",
       " 'chicken': 20,\n",
       " 'sheep': 20,\n",
       " 'squirrel': 20,\n",
       " 'spider': 17}"
      ]
     },
     "execution_count": 55,
     "metadata": {},
     "output_type": "execute_result"
    }
   ],
   "source": [
    "coco_rows = {key: value[:20] for key, value in coco_rows.items()}\n",
    "{key: len(value) for key, value in coco_rows.items()}"
   ]
  },
  {
   "cell_type": "code",
   "execution_count": 57,
   "metadata": {},
   "outputs": [],
   "source": [
    "with open('./datasets/coco_unlabeled.json', mode=\"w\", encoding='utf8') as f:\n",
    "    json.dump(coco_rows, f, indent=1, ensure_ascii=False)"
   ]
  },
  {
   "cell_type": "markdown",
   "metadata": {},
   "source": [
    "Labeled it manually."
   ]
  },
  {
   "cell_type": "code",
   "execution_count": 2,
   "metadata": {},
   "outputs": [],
   "source": [
    "import json\n",
    "\n",
    "with open('./datasets/coco_labeled.json', mode=\"r\", encoding='utf8') as f:\n",
    "    coco_labeled = json.load(f)"
   ]
  },
  {
   "cell_type": "code",
   "execution_count": 10,
   "metadata": {},
   "outputs": [
    {
     "data": {
      "text/plain": [
       "197"
      ]
     },
     "execution_count": 10,
     "metadata": {},
     "output_type": "execute_result"
    }
   ],
   "source": [
    "coco_animals = tags_to_clstags(coco_labeled)\n",
    "\n",
    "len(coco_animals)"
   ]
  },
  {
   "cell_type": "code",
   "execution_count": 72,
   "metadata": {},
   "outputs": [],
   "source": [
    "with open('./datasets/coco_animals.json', mode=\"w\", encoding='utf8') as f:\n",
    "    json.dump(coco_animals, f, indent=1, ensure_ascii=False)"
   ]
  },
  {
   "cell_type": "markdown",
   "metadata": {},
   "source": [
    "In the saved set, examples that don't contain tags remained. Such a set is needed to check the model's generalization across contexts. Now let's filter them."
   ]
  },
  {
   "cell_type": "code",
   "execution_count": 11,
   "metadata": {},
   "outputs": [
    {
     "data": {
      "text/plain": [
       "154"
      ]
     },
     "execution_count": 11,
     "metadata": {},
     "output_type": "execute_result"
    }
   ],
   "source": [
    "coco_animals_filtered = []\n",
    "for row in coco_animals:\n",
    "    if list(set(row['ner_tags'])) != [0]:\n",
    "        coco_animals_filtered.append(row)\n",
    "\n",
    "len(coco_animals_filtered)"
   ]
  },
  {
   "cell_type": "code",
   "execution_count": 12,
   "metadata": {},
   "outputs": [],
   "source": [
    "with open('./datasets/coco_animals_filtered.json', mode=\"w\", encoding='utf8') as f:\n",
    "    json.dump(coco_animals_filtered, f, indent=1, ensure_ascii=False)"
   ]
  },
  {
   "cell_type": "markdown",
   "metadata": {},
   "source": [
    "### EDA"
   ]
  },
  {
   "cell_type": "code",
   "execution_count": 4,
   "metadata": {},
   "outputs": [],
   "source": [
    "from collections import Counter\n",
    "import matplotlib.pyplot as plt\n",
    "\n",
    "def draw_label_hist(json_data):\n",
    "    labels = []\n",
    "    for row in json_data:\n",
    "        labels += row[\"ner_tags\"]\n",
    "\n",
    "    label_dict = dict(Counter(labels))\n",
    "    label_dict.pop(0, None)\n",
    "    print(label_dict)\n",
    "\n",
    "    keys = list(label_dict.keys())\n",
    "    values = list(label_dict.values())\n",
    "\n",
    "    plt.bar(keys, values)\n",
    "\n",
    "    plt.xlabel('Category')\n",
    "    plt.ylabel('Frequency')\n",
    "    plt.title('Histogram from of NER classes')\n",
    "\n",
    "    plt.show()\n"
   ]
  },
  {
   "cell_type": "code",
   "execution_count": 5,
   "metadata": {},
   "outputs": [],
   "source": [
    "import json\n",
    "\n",
    "with open('./datasets/animals_synthetic.json', mode=\"r\", encoding='utf8') as f:\n",
    "    animals_synthetic = json.load(f)"
   ]
  },
  {
   "cell_type": "code",
   "execution_count": 6,
   "metadata": {},
   "outputs": [
    {
     "name": "stdout",
     "output_type": "stream",
     "text": [
      "{4: 299, 2: 346, 5: 342, 3: 280, 6: 273, 7: 421, 10: 264, 8: 279, 9: 281, 1: 258}\n"
     ]
    },
    {
     "data": {
      "image/png": "[encoded data removed]",
      "text/plain": [
       "<Figure size 640x480 with 1 Axes>"
      ]
     },
     "metadata": {},
     "output_type": "display_data"
    }
   ],
   "source": [
    "draw_label_hist(animals_synthetic)"
   ]
  },
  {
   "cell_type": "code",
   "execution_count": 7,
   "metadata": {},
   "outputs": [],
   "source": [
    "import json\n",
    "\n",
    "with open('./datasets/animal-fun-facts.json', mode=\"r\", encoding='utf8') as f:\n",
    "    animals_fun_facts = json.load(f)"
   ]
  },
  {
   "cell_type": "code",
   "execution_count": 8,
   "metadata": {},
   "outputs": [
    {
     "name": "stdout",
     "output_type": "stream",
     "text": [
      "{9: 87, 6: 117, 2: 168, 10: 55, 5: 202, 3: 32, 7: 36, 4: 81, 1: 4, 8: 24}\n"
     ]
    },
    {
     "data": {
      "image/png": "[encoded data removed]",
      "text/plain": [
       "<Figure size 640x480 with 1 Axes>"
      ]
     },
     "metadata": {},
     "output_type": "display_data"
    }
   ],
   "source": [
    "draw_label_hist(animals_fun_facts)"
   ]
  },
  {
   "cell_type": "code",
   "execution_count": 9,
   "metadata": {},
   "outputs": [],
   "source": [
    "import json\n",
    "\n",
    "with open('./datasets/coco_animals.json', mode=\"r\", encoding='utf8') as f:\n",
    "    coco_animals = json.load(f)"
   ]
  },
  {
   "cell_type": "code",
   "execution_count": 10,
   "metadata": {},
   "outputs": [
    {
     "name": "stdout",
     "output_type": "stream",
     "text": [
      "{1: 7, 2: 23, 7: 22, 5: 20, 4: 18, 6: 12, 3: 13, 8: 16, 10: 15, 9: 13}\n"
     ]
    },
    {
     "data": {
      "image/png": "[encoded data removed]",
      "text/plain": [
       "<Figure size 640x480 with 1 Axes>"
      ]
     },
     "metadata": {},
     "output_type": "display_data"
    }
   ],
   "source": [
    "draw_label_hist(coco_animals)"
   ]
  },
  {
   "cell_type": "markdown",
   "metadata": {},
   "source": [
    "The training data is slightly imbalanced (up to ~30%). I think such small imbalance will not affect model performance dramatically. It's not great, but balance is not so important for transformers in NER tasks."
   ]
  }
 ],
 "metadata": {
  "kernelspec": {
   "display_name": "venv",
   "language": "python",
   "name": "python3"
  },
  "language_info": {
   "codemirror_mode": {
    "name": "ipython",
    "version": 3
   },
   "file_extension": ".py",
   "mimetype": "text/x-python",
   "name": "python",
   "nbconvert_exporter": "python",
   "pygments_lexer": "ipython3",
   "version": "3.11.2"
  }
 },
 "nbformat": 4,
 "nbformat_minor": 2
}
